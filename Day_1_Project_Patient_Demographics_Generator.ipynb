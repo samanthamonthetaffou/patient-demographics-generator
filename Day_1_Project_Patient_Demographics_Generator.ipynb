{
  "nbformat": 4,
  "nbformat_minor": 0,
  "metadata": {
    "colab": {
      "provenance": []
    },
    "kernelspec": {
      "name": "python3",
      "display_name": "Python 3"
    },
    "language_info": {
      "name": "python"
    }
  },
  "cells": [
    {
      "cell_type": "markdown",
      "source": [
        "Example: Band Name Generator"
      ],
      "metadata": {
        "id": "rub7MKH--uxs"
      }
    },
    {
      "cell_type": "code",
      "execution_count": 13,
      "metadata": {
        "colab": {
          "base_uri": "https://localhost:8080/"
        },
        "id": "9wpC3wxC7Uzj",
        "outputId": "dc9628ea-1489-4dde-aba0-9cec4578c64c"
      },
      "outputs": [
        {
          "output_type": "stream",
          "name": "stdout",
          "text": [
            "Welcome to the Band Name Generator.\n",
            "Which city did you grow up in?\n",
            "London\n",
            "What is the name of your pet?\n",
            "Bunny\n",
            "Your Band Name could be London Bunny\n"
          ]
        }
      ],
      "source": [
        "print(\"Welcome to the Band Name Generator.\")\n",
        "city = input(\"Which city did you grow up in?\\n\")\n",
        "pet = input(\"What is the name of your pet?\\n\")\n",
        "print(\"Your Band Name could be\" + \" \" + city + \" \" + pet)"
      ]
    },
    {
      "cell_type": "code",
      "source": [],
      "metadata": {
        "id": "zQ5gaTl9-sEs"
      },
      "execution_count": null,
      "outputs": []
    },
    {
      "cell_type": "markdown",
      "source": [
        "Patient Demographics Generator"
      ],
      "metadata": {
        "id": "pPjdDioA-02h"
      }
    },
    {
      "cell_type": "code",
      "source": [
        "print(\"Patient Demographics Form\")\n",
        "name = input(\"What is your full name?\\n\")\n",
        "date_of_birth = input(\"What is your date of birth?\\n\")\n",
        "gender = input(\"What is your gender?\\n\")\n",
        "address = input(\"What is your address?\\n\")\n",
        "phone_number = input(\"What is your phone number?\\n\")\n",
        "email = input(\"What is your email address?\\n\")\n",
        "print(\"Your details are\" + \" \" + name + \" \" + date_of_birth + \" \" + gender + \" \" + address + \" \" + phone_number + \" \" + email)"
      ],
      "metadata": {
        "colab": {
          "base_uri": "https://localhost:8080/"
        },
        "id": "ty3PqFHD-6xn",
        "outputId": "adb707ab-ed58-4e31-a0fd-e2b8fa2410f9"
      },
      "execution_count": 24,
      "outputs": [
        {
          "output_type": "stream",
          "name": "stdout",
          "text": [
            "Patient Demographics Form\n",
            "What is your full name?\n",
            "Sam\n",
            "What is your date of birth?\n",
            "00/00/00\n",
            "What is your gender?\n",
            "female\n",
            "What is your address?\n",
            "n/a\n",
            "What is your phone number?\n",
            "00000000000#\n",
            "What is your email address?\n",
            "n/a\n",
            "Your details are Sam 00/00/00 female n/a 00000000000# n/a\n"
          ]
        }
      ]
    }
  ]
}