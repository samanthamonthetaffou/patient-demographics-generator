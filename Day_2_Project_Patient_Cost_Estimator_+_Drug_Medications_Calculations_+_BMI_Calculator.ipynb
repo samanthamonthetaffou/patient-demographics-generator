{
  "nbformat": 4,
  "nbformat_minor": 0,
  "metadata": {
    "colab": {
      "provenance": [],
      "authorship_tag": "ABX9TyPfvYLlr3jppty0wQkPoKuS",
      "include_colab_link": true
    },
    "kernelspec": {
      "name": "python3",
      "display_name": "Python 3"
    },
    "language_info": {
      "name": "python"
    }
  },
  "cells": [
    {
      "cell_type": "markdown",
      "metadata": {
        "id": "view-in-github",
        "colab_type": "text"
      },
      "source": [
        "<a href=\"https://colab.research.google.com/github/sammontaff/patient-demographics-form/blob/main/Day_2_Project_Patient_Cost_Estimator_%2B_Drug_Medications_Calculations_%2B_BMI_Calculator.ipynb\" target=\"_parent\"><img src=\"https://colab.research.google.com/assets/colab-badge.svg\" alt=\"Open In Colab\"/></a>"
      ]
    },
    {
      "cell_type": "markdown",
      "source": [
        "Patient cost estimator\n",
        "Example - 35F presents to SDEC following a recent diagnosis of Iron Deficiency Anaemia. Please use the Patient cost estimator below to calculate the total cost of their hospital visit:"
      ],
      "metadata": {
        "id": "UKWh3IxD42Ji"
      }
    },
    {
      "cell_type": "code",
      "source": [
        "print(\"Welcome to the Patient Cost Estimator\")\n",
        "Insurance_cover = float(input(\"Insurance cover: £ \"))\n",
        "Out_of_pocket = float(input(\"Out of pocket: £ \"))\n",
        "Optional_donations = float(input(\"Optional Donations: 5 10 20 \"))\n",
        "Medication_cost = float(input(\"Medication cost: £ \"))\n",
        "Total_cost = Insurance_cover + Out_of_pocket + Optional_donations + Medication_cost\n",
        "Optional_donations = Total_cost * Optional_donations / 100, 2\n",
        "print(f\"The total cost is: £ {Total_cost}\")"
      ],
      "metadata": {
        "id": "FTN4Pi8z443p"
      },
      "execution_count": null,
      "outputs": []
    },
    {
      "cell_type": "markdown",
      "source": [
        "Drug/Medication Calculations 101"
      ],
      "metadata": {
        "id": "-iYesdg-ncSe"
      }
    },
    {
      "cell_type": "code",
      "source": [
        "print(\"Welcome to Drug/Medication Calculations 101\")\n",
        "Required_dose = float(input(\"What is the required dose (mcg/mg/ml)? \"))\n",
        "Dose_that_I_have = float(input(\"What is the dose that I have (mcg/mg/ml)? \"))\n",
        "volume_it_is_in = float(input(\"What is the volume it is in? (mcg/mg/ml)\"))\n",
        "Final_dose = Required_dose / Dose_that_I_have * volume_it_is_in\n",
        "print(f\"The calculated dose is (mcg/mg/ml): {Final_dose}\")\n"
      ],
      "metadata": {
        "id": "3HOEruo10LN2"
      },
      "execution_count": null,
      "outputs": []
    },
    {
      "cell_type": "markdown",
      "source": [
        "BMI Calculator"
      ],
      "metadata": {
        "id": "glUjbwxt39Yq"
      }
    },
    {
      "cell_type": "code",
      "execution_count": null,
      "metadata": {
        "id": "OkfNh8GGM7pm"
      },
      "outputs": [],
      "source": [
        "height = 1.65\n",
        "weight = 84\n",
        "bmi = weight / height ** 2\n",
        "print(bmi)\n",
        "print(round(bmi, 2))"
      ]
    },
    {
      "cell_type": "markdown",
      "source": [
        "Example - Welcome to the Tip Calculator"
      ],
      "metadata": {
        "id": "lmTgPyLetPMc"
      }
    },
    {
      "cell_type": "code",
      "source": [
        "print(\"Welcome to the Tip Calculator\")\n",
        "bill = float(input(\"What was the total bill? £ \"))\n",
        "tip = int(input(\"How much tip would you like to give? 10 12 15 \"))\n",
        "people = int(input(\"How many people to split the bill? \"))\n",
        "bill_with_tip = round(bill * (1 + tip / 100) / people, 2)\n",
        "print(bill_with_tip)\n",
        "tip_as_percent = tip / 100\n",
        "total_tip_amount = bill * tip_as_percent\n",
        "total_bill = bill + total_tip_amount\n",
        "bill_per_person = total_bill / people\n",
        "final_amount = round(bill_per_person, 2)\n",
        "print(f\"Each person should pay: £{final_amount}\")\n"
      ],
      "metadata": {
        "id": "9eGT-iYwtSJl"
      },
      "execution_count": null,
      "outputs": []
    }
  ]
}