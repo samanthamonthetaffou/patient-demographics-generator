{
  "nbformat": 4,
  "nbformat_minor": 0,
  "metadata": {
    "colab": {
      "provenance": [],
      "authorship_tag": "ABX9TyM2MXF2SdJR574zMeEPJ4dG",
      "include_colab_link": true
    },
    "kernelspec": {
      "name": "python3",
      "display_name": "Python 3"
    },
    "language_info": {
      "name": "python"
    }
  },
  "cells": [
    {
      "cell_type": "markdown",
      "metadata": {
        "id": "view-in-github",
        "colab_type": "text"
      },
      "source": [
        "<a href=\"https://colab.research.google.com/github/samanthamonthetaffou/patient-demographics-generator/blob/main/Day_1_Project_Patient_Demographics_Form.ipynb\" target=\"_parent\"><img src=\"https://colab.research.google.com/assets/colab-badge.svg\" alt=\"Open In Colab\"/></a>"
      ]
    },
    {
      "cell_type": "markdown",
      "source": [
        "Example: Band Name Generator"
      ],
      "metadata": {
        "id": "rub7MKH--uxs"
      }
    },
    {
      "cell_type": "code",
      "execution_count": null,
      "metadata": {
        "id": "9wpC3wxC7Uzj"
      },
      "outputs": [],
      "source": [
        "print(\"Welcome to the Band Name Generator.\")\n",
        "city = input(\"Which city did you grow up in?\\n\")\n",
        "pet = input(\"What is the name of your pet?\\n\")\n",
        "print(\"Your Band Name could be\" + \" \" + city + \" \" + pet)"
      ]
    },
    {
      "cell_type": "code",
      "source": [],
      "metadata": {
        "id": "zQ5gaTl9-sEs"
      },
      "execution_count": null,
      "outputs": []
    },
    {
      "cell_type": "markdown",
      "source": [
        "Patient Demographics Form"
      ],
      "metadata": {
        "id": "pPjdDioA-02h"
      }
    },
    {
      "cell_type": "code",
      "source": [
        "print(\"Patient Demographics Form\")\n",
        "name = input(\"What is your full name?\\n\")\n",
        "date_of_birth = input(\"What is your date of birth?\\n\")\n",
        "gender = input(\"What is your gender?\\n\")\n",
        "address = input(\"What is your address?\\n\")\n",
        "phone_number = input(\"What is your phone number?\\n\")\n",
        "email = input(\"What is your email address?\\n\")\n",
        "print(\"Your details are\" + \" \" + name + \" \" + date_of_birth + \" \" + gender + \" \" + address + \" \" + phone_number + \" \" + email)"
      ],
      "metadata": {
        "colab": {
          "base_uri": "https://localhost:8080/"
        },
        "id": "ty3PqFHD-6xn",
        "outputId": "6f15f11f-f090-4935-f2cb-30cb56b2722d"
      },
      "execution_count": null,
      "outputs": [
        {
          "output_type": "stream",
          "name": "stdout",
          "text": [
            "Patient Demographics Form\n"
          ]
        }
      ]
    }
  ]
}